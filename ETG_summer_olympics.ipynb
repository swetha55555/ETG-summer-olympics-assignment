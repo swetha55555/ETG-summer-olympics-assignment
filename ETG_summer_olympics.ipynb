{
  "nbformat": 4,
  "nbformat_minor": 0,
  "metadata": {
    "colab": {
      "name": "ETG summer olympics.ipynb",
      "provenance": [],
      "collapsed_sections": []
    },
    "kernelspec": {
      "name": "python3",
      "display_name": "Python 3"
    },
    "language_info": {
      "name": "python"
    }
  },
  "cells": [
    {
      "cell_type": "markdown",
      "metadata": {
        "id": "I3E0RLqvbqOv"
      },
      "source": [
        "# SUMMER OLYMPICS ANALYSIS"
      ]
    },
    {
      "cell_type": "markdown",
      "metadata": {
        "id": "BxGFHuLeb2Ge"
      },
      "source": [
        "## BASIC ANALYSIS WITH THE DATASET"
      ]
    },
    {
      "cell_type": "code",
      "metadata": {
        "id": "245W_OyPb1Zo"
      },
      "source": [
        "import pandas as pd                             #importing the pandas package to process the csv file\n",
        "import matplotlib.pyplot as plt                 #importing matplotlib for plotting purpose."
      ],
      "execution_count": 1,
      "outputs": []
    },
    {
      "cell_type": "code",
      "metadata": {
        "id": "FuVkS-ORcJQb"
      },
      "source": [
        "df = pd.read_csv(\"summer1.csv\")                 #reading the csv file using pd.read_csv and storing it in df variable"
      ],
      "execution_count": 2,
      "outputs": []
    },
    {
      "cell_type": "code",
      "metadata": {
        "colab": {
          "base_uri": "https://localhost:8080/"
        },
        "id": "P3zC2dy7cSzM",
        "outputId": "042a09ad-5fa9-4ed0-dd79-2a783096d249"
      },
      "source": [
        "type(df)                                        #the type of the variable df is DataFrame"
      ],
      "execution_count": 3,
      "outputs": [
        {
          "output_type": "execute_result",
          "data": {
            "text/plain": [
              "pandas.core.frame.DataFrame"
            ]
          },
          "metadata": {},
          "execution_count": 3
        }
      ]
    },
    {
      "cell_type": "code",
      "metadata": {
        "id": "63VjwVzQcZYJ"
      },
      "source": [
        "df                                              #printing the entire dataset, it has 31165 rows and 9 columns"
      ],
      "execution_count": null,
      "outputs": []
    },
    {
      "cell_type": "code",
      "metadata": {
        "colab": {
          "base_uri": "https://localhost:8080/"
        },
        "id": "P2jyX2_bchV8",
        "outputId": "f26dddf9-c477-4dae-b465-09f34e7cc30a"
      },
      "source": [
        "df.isnull().sum()                               #checking for all the null values"
      ],
      "execution_count": 6,
      "outputs": [
        {
          "output_type": "execute_result",
          "data": {
            "text/plain": [
              "Year          0\n",
              "City          0\n",
              "Sport         0\n",
              "Discipline    0\n",
              "Athlete       0\n",
              "Country       4\n",
              "Gender        0\n",
              "Event         0\n",
              "Medal         0\n",
              "dtype: int64"
            ]
          },
          "metadata": {},
          "execution_count": 6
        }
      ]
    },
    {
      "cell_type": "code",
      "metadata": {
        "id": "8mmKl3bXcuTJ"
      },
      "source": [
        "df = df.dropna()                                #removing the null values"
      ],
      "execution_count": 7,
      "outputs": []
    },
    {
      "cell_type": "markdown",
      "metadata": {
        "id": "oyZbZfjPc3ps"
      },
      "source": [
        "# 1. In how many cities Summer Olympics is held so far?"
      ]
    },
    {
      "cell_type": "code",
      "metadata": {
        "colab": {
          "base_uri": "https://localhost:8080/"
        },
        "id": "QGzFXAq2cz5w",
        "outputId": "03e84161-be3a-4fe7-f9a4-3b26604e43b8"
      },
      "source": [
        "df['City'].unique()                             #finding out the cities where the summer olympics held"
      ],
      "execution_count": 8,
      "outputs": [
        {
          "output_type": "execute_result",
          "data": {
            "text/plain": [
              "array(['Athens', 'Paris', 'St Louis', 'London', 'Stockholm', 'Antwerp',\n",
              "       'Amsterdam', 'Los Angeles', 'Berlin', 'Helsinki',\n",
              "       'Melbourne / Stockholm', 'Rome', 'Tokyo', 'Mexico', 'Munich',\n",
              "       'Montreal', 'Moscow', 'Seoul', 'Barcelona', 'Atlanta', 'Sydney',\n",
              "       'Beijing'], dtype=object)"
            ]
          },
          "metadata": {},
          "execution_count": 8
        }
      ]
    },
    {
      "cell_type": "code",
      "metadata": {
        "colab": {
          "base_uri": "https://localhost:8080/"
        },
        "id": "Ksxb36jvdGTy",
        "outputId": "90c8f63b-8e0e-46c0-8250-37809acf39b8"
      },
      "source": [
        "len(df['City'].unique())                        #finding the number of all those cities  "
      ],
      "execution_count": 9,
      "outputs": [
        {
          "output_type": "execute_result",
          "data": {
            "text/plain": [
              "22"
            ]
          },
          "metadata": {},
          "execution_count": 9
        }
      ]
    },
    {
      "cell_type": "markdown",
      "metadata": {
        "id": "EX6UXk42dP0U"
      },
      "source": [
        "##### Therefore the summer olympics has held in 22 cities."
      ]
    },
    {
      "cell_type": "markdown",
      "metadata": {
        "id": "hKKOqhpadoqV"
      },
      "source": [
        "# 2. Which sport is having most number of Gold Medals so far? (Top 5)\n"
      ]
    },
    {
      "cell_type": "code",
      "metadata": {
        "id": "uevbdO0Fgvv2"
      },
      "source": [
        "df= df[df['Medal']=='Gold']                                                 # extracting the dataset and fixing it only with gold medal."
      ],
      "execution_count": 10,
      "outputs": []
    },
    {
      "cell_type": "code",
      "metadata": {
        "colab": {
          "base_uri": "https://localhost:8080/"
        },
        "id": "LSBZK5_Lgz5e",
        "outputId": "2b1d94a7-34d7-401a-fcfa-aa029f86fd3c"
      },
      "source": [
        "len(df)"
      ],
      "execution_count": 11,
      "outputs": [
        {
          "output_type": "execute_result",
          "data": {
            "text/plain": [
              "10484"
            ]
          },
          "metadata": {},
          "execution_count": 11
        }
      ]
    },
    {
      "cell_type": "code",
      "metadata": {
        "colab": {
          "base_uri": "https://localhost:8080/",
          "height": 399
        },
        "id": "vw7tdc36dNSb",
        "outputId": "61ad25c3-a000-45a3-b983-53ab8a8ecf9e"
      },
      "source": [
        "data = []                                                                   #assinging a empty list \n",
        "for sport in df['Sport'].unique():                                          #using a for loop and finding out all the unique sports\n",
        "  data.append([sport, len(df[df['Sport'] == sport])])                       #appending the list\n",
        "\n",
        "data = pd.DataFrame(data,columns=['Sport','Medal'])                         #converting the list into a dataframe   \n",
        "\n",
        "data = data.sort_values(by = 'Medal',ascending = False).head()               #sorting the values in descending order and printing the top 5\n",
        "\n",
        "data.plot(x = 'Sport', y = 'Medal',kind = 'bar',figsize = (15,5),color = 'Black')  #plotting the graph for the top 5."
      ],
      "execution_count": 12,
      "outputs": [
        {
          "output_type": "execute_result",
          "data": {
            "text/plain": [
              "<matplotlib.axes._subplots.AxesSubplot at 0x7f0fd40d93d0>"
            ]
          },
          "metadata": {},
          "execution_count": 12
        },
        {
          "output_type": "display_data",
          "data": {
            "image/png": "[encoded data removed]",
            "text/plain": [
              "<Figure size 1080x360 with 1 Axes>"
            ]
          },
          "metadata": {
            "needs_background": "light"
          }
        }
      ]
    },
    {
      "cell_type": "markdown",
      "metadata": {
        "id": "0Agx7VMYqIbZ"
      },
      "source": [
        "# METHOD 2"
      ]
    },
    {
      "cell_type": "code",
      "metadata": {
        "colab": {
          "base_uri": "https://localhost:8080/"
        },
        "id": "smBXIjBdqICZ",
        "outputId": "47a66799-7f97-457f-fd9d-cbce3c5f8ece"
      },
      "source": [
        "df= df[df['Medal']=='Gold']\n",
        "df.groupby('Sport').count()['Medal'].sort_values(ascending = False).head()"
      ],
      "execution_count": 13,
      "outputs": [
        {
          "output_type": "execute_result",
          "data": {
            "text/plain": [
              "Sport\n",
              "Aquatics      1421\n",
              "Athletics     1214\n",
              "Rowing         890\n",
              "Gymnastics     820\n",
              "Fencing        552\n",
              "Name: Medal, dtype: int64"
            ]
          },
          "metadata": {},
          "execution_count": 13
        }
      ]
    },
    {
      "cell_type": "markdown",
      "metadata": {
        "id": "jT_dUdgPf4jl"
      },
      "source": [
        "# 3. Which sport is having most number of medals so far? (Top 5)"
      ]
    },
    {
      "cell_type": "code",
      "metadata": {
        "colab": {
          "base_uri": "https://localhost:8080/"
        },
        "id": "sxdITu62eJZD",
        "outputId": "2ffd7f91-1417-4fe3-98ef-f1d8a7bad7a7"
      },
      "source": [
        "df = pd.read_csv(\"summer1.csv\")\n",
        "df =df.dropna()\n",
        "len(df['Sport'].unique())"
      ],
      "execution_count": 14,
      "outputs": [
        {
          "output_type": "execute_result",
          "data": {
            "text/plain": [
              "43"
            ]
          },
          "metadata": {},
          "execution_count": 14
        }
      ]
    },
    {
      "cell_type": "code",
      "metadata": {
        "colab": {
          "base_uri": "https://localhost:8080/"
        },
        "id": "YczyY1XFhNWP",
        "outputId": "e3f1ce7b-832f-48ac-a856-d63a1dbea66b"
      },
      "source": [
        "len(df['Medal'])"
      ],
      "execution_count": 15,
      "outputs": [
        {
          "output_type": "execute_result",
          "data": {
            "text/plain": [
              "31161"
            ]
          },
          "metadata": {},
          "execution_count": 15
        }
      ]
    },
    {
      "cell_type": "code",
      "metadata": {
        "colab": {
          "base_uri": "https://localhost:8080/",
          "height": 399
        },
        "id": "k3hAM7TUgN8U",
        "outputId": "20477bd7-8b3d-4b9a-9f99-a93e2e36d353"
      },
      "source": [
        "data = []\n",
        "for sport in df['Sport'].unique():\n",
        "  data.append([sport, len(df[df['Sport'] == sport])])\n",
        "\n",
        "data = pd.DataFrame(data,columns=['Sport','freq'])\n",
        "\n",
        "data = data.sort_values(by = 'freq',ascending = False).head()\n",
        "\n",
        "data.plot(x = 'Sport', y = 'freq',kind = 'bar',figsize = (15,5),color = 'Orange')"
      ],
      "execution_count": 16,
      "outputs": [
        {
          "output_type": "execute_result",
          "data": {
            "text/plain": [
              "<matplotlib.axes._subplots.AxesSubplot at 0x7f0fd3975dd0>"
            ]
          },
          "metadata": {},
          "execution_count": 16
        },
        {
          "output_type": "display_data",
          "data": {
            "image/png": "[encoded data removed]",
            "text/plain": [
              "<Figure size 1080x360 with 1 Axes>"
            ]
          },
          "metadata": {
            "needs_background": "light"
          }
        }
      ]
    },
    {
      "cell_type": "markdown",
      "metadata": {
        "id": "jaranRHwqnXr"
      },
      "source": [
        "# METHOD 2"
      ]
    },
    {
      "cell_type": "code",
      "metadata": {
        "colab": {
          "base_uri": "https://localhost:8080/"
        },
        "id": "r1k8oylzqqFk",
        "outputId": "24961e6c-3a14-45a8-a3d5-a7da27ca1ace"
      },
      "source": [
        "df = pd.read_csv(\"summer1.csv\")\n",
        "df.groupby('Sport').count()['Medal'].sort_values(ascending = False).head()"
      ],
      "execution_count": 17,
      "outputs": [
        {
          "output_type": "execute_result",
          "data": {
            "text/plain": [
              "Sport\n",
              "Aquatics      4170\n",
              "Athletics     3638\n",
              "Rowing        2667\n",
              "Gymnastics    2307\n",
              "Fencing       1613\n",
              "Name: Medal, dtype: int64"
            ]
          },
          "metadata": {},
          "execution_count": 17
        }
      ]
    },
    {
      "cell_type": "markdown",
      "metadata": {
        "id": "Jst5Mg5eh3np"
      },
      "source": [
        "# 4. Which player has won most number of medals? (Top 5)"
      ]
    },
    {
      "cell_type": "code",
      "metadata": {
        "colab": {
          "base_uri": "https://localhost:8080/"
        },
        "id": "j1ls1atkh1Zo",
        "outputId": "b844a486-6c0d-49d4-d601-71e18b61ca82"
      },
      "source": [
        "len(df['Athlete'].unique())"
      ],
      "execution_count": null,
      "outputs": [
        {
          "output_type": "execute_result",
          "data": {
            "text/plain": [
              "22761"
            ]
          },
          "metadata": {},
          "execution_count": 24
        }
      ]
    },
    {
      "cell_type": "code",
      "metadata": {
        "colab": {
          "base_uri": "https://localhost:8080/",
          "height": 441
        },
        "id": "Vf1y0RwfiELP",
        "outputId": "1437f965-42ff-4e66-f778-75a155051d18"
      },
      "source": [
        "df = pd.read_csv(\"summer1.csv\")\n",
        "df =df.dropna()\n",
        "\n",
        "data = []\n",
        "for sport in df['Athlete'].unique():\n",
        "  data.append([sport, len(df[df['Athlete'] == sport])])\n",
        "\n",
        "data = pd.DataFrame(data,columns=['Athlete','freq'])\n",
        "\n",
        "data = data.sort_values(by = 'freq',ascending = False).head()\n",
        "\n",
        "data.plot(x = 'Athlete', y = 'freq',kind = 'bar',figsize = (15,5),color = 'Pink')"
      ],
      "execution_count": null,
      "outputs": [
        {
          "output_type": "execute_result",
          "data": {
            "text/plain": [
              "<matplotlib.axes._subplots.AxesSubplot at 0x7f795c8e2b90>"
            ]
          },
          "metadata": {},
          "execution_count": 26
        },
        {
          "output_type": "display_data",
          "data": {
            "image/png": "[encoded data removed]",
            "text/plain": [
              "<Figure size 1080x360 with 1 Axes>"
            ]
          },
          "metadata": {
            "needs_background": "light"
          }
        }
      ]
    },
    {
      "cell_type": "markdown",
      "metadata": {
        "id": "nNA1Vr61q40Y"
      },
      "source": [
        "# METHOD 2"
      ]
    },
    {
      "cell_type": "code",
      "metadata": {
        "colab": {
          "base_uri": "https://localhost:8080/"
        },
        "id": "Gu-anMY6q-b2",
        "outputId": "7de93f36-72e7-4a94-f820-4b5251526c3f"
      },
      "source": [
        "df = pd.read_csv(\"summer1.csv\")\n",
        "df.groupby('Athlete').count()['Medal'].sort_values(ascending = False).head()"
      ],
      "execution_count": 18,
      "outputs": [
        {
          "output_type": "execute_result",
          "data": {
            "text/plain": [
              "Athlete\n",
              "PHELPS, Michael         22\n",
              "LATYNINA, Larisa        18\n",
              "ANDRIANOV, Nikolay      15\n",
              "MANGIAROTTI, Edoardo    13\n",
              "SHAKHLIN, Boris         13\n",
              "Name: Medal, dtype: int64"
            ]
          },
          "metadata": {},
          "execution_count": 18
        }
      ]
    },
    {
      "cell_type": "markdown",
      "metadata": {
        "id": "vH_scw9ejPqC"
      },
      "source": [
        "# 5. Which player has won most number Gold Medals of medals? (Top 5)"
      ]
    },
    {
      "cell_type": "code",
      "metadata": {
        "colab": {
          "base_uri": "https://localhost:8080/",
          "height": 423
        },
        "id": "DOcBBC8yi9Vj",
        "outputId": "88b31081-ab3e-4a6a-b753-e212cab1cb82"
      },
      "source": [
        "df = df[df['Medal'] == 'Gold']\n",
        "data = []\n",
        "for athlete in df['Athlete'].unique():\n",
        "  data.append([athlete, len(df[df['Athlete'] == athlete])])\n",
        "\n",
        "data = pd.DataFrame(data,columns=['Athlete','Medal'])\n",
        "\n",
        "data = data.sort_values(by = 'Medal',ascending = False).head()\n",
        "\n",
        "data.plot(x = 'Athlete', y = 'Medal',kind = 'bar',figsize = (15,5))"
      ],
      "execution_count": null,
      "outputs": [
        {
          "output_type": "execute_result",
          "data": {
            "text/plain": [
              "<matplotlib.axes._subplots.AxesSubplot at 0x7f795c5001d0>"
            ]
          },
          "metadata": {},
          "execution_count": 27
        },
        {
          "output_type": "display_data",
          "data": {
            "image/png": "[encoded data removed]",
            "text/plain": [
              "<Figure size 1080x360 with 1 Axes>"
            ]
          },
          "metadata": {
            "needs_background": "light"
          }
        }
      ]
    },
    {
      "cell_type": "markdown",
      "metadata": {
        "id": "xiOeqCYjrFm2"
      },
      "source": [
        "# Method 2"
      ]
    },
    {
      "cell_type": "code",
      "metadata": {
        "colab": {
          "base_uri": "https://localhost:8080/"
        },
        "id": "Z9d0dsrnrHqa",
        "outputId": "2261d3b5-6f67-40d0-9493-d0e8ad9b6f79"
      },
      "source": [
        "df = df[df['Medal'] == 'Gold']\n",
        "df.groupby('Athlete').count()['Medal'].sort_values(ascending = False).head()"
      ],
      "execution_count": 20,
      "outputs": [
        {
          "output_type": "execute_result",
          "data": {
            "text/plain": [
              "Athlete\n",
              "PHELPS, Michael     18\n",
              "NURMI, Paavo         9\n",
              "SPITZ, Mark          9\n",
              "LEWIS, Carl          9\n",
              "LATYNINA, Larisa     9\n",
              "Name: Medal, dtype: int64"
            ]
          },
          "metadata": {},
          "execution_count": 20
        }
      ]
    },
    {
      "cell_type": "markdown",
      "metadata": {
        "id": "Bil5P1cTj32g"
      },
      "source": [
        "# 6. In which year India won first Gold Medal in Summer Olympics?"
      ]
    },
    {
      "cell_type": "code",
      "metadata": {
        "colab": {
          "base_uri": "https://localhost:8080/",
          "height": 363
        },
        "id": "3Hv7tjV_j8HX",
        "outputId": "aade665e-0e05-4437-fe33-9d14c29cf577"
      },
      "source": [
        "df = pd.read_csv(\"summer1.csv\")\n",
        "\n",
        "df = df[df['Country'] == 'IND']\n",
        "df = df[df['Medal'] == 'Gold']\n",
        "data = []\n",
        "for year in df['Year'].unique():\n",
        "  data.append([year, len(df[df['Year'] == year])])\n",
        "\n",
        "data = pd.DataFrame(data,columns=['Year','Medal'])\n",
        "\n",
        "data = data.sort_values(by = 'Year',ascending = True)\n",
        "\n",
        "data.plot(x = 'Year', y = 'Medal',kind = 'bar',figsize = (15,5),color = 'Red')"
      ],
      "execution_count": null,
      "outputs": [
        {
          "output_type": "execute_result",
          "data": {
            "text/plain": [
              "<matplotlib.axes._subplots.AxesSubplot at 0x7f795c3c32d0>"
            ]
          },
          "metadata": {},
          "execution_count": 29
        },
        {
          "output_type": "display_data",
          "data": {
            "image/png": "[encoded data removed]",
            "text/plain": [
              "<Figure size 1080x360 with 1 Axes>"
            ]
          },
          "metadata": {
            "needs_background": "light"
          }
        }
      ]
    },
    {
      "cell_type": "markdown",
      "metadata": {
        "id": "EDCfu22MkD_Z"
      },
      "source": [
        "##### Therefore India won its 1st gold medal in 1928"
      ]
    },
    {
      "cell_type": "markdown",
      "metadata": {
        "id": "qFLx9_gSkTSO"
      },
      "source": [
        "\n",
        "# 7. Which event is most popular in terms on number of players? (Top 5)"
      ]
    },
    {
      "cell_type": "code",
      "metadata": {
        "colab": {
          "base_uri": "https://localhost:8080/",
          "height": 428
        },
        "id": "YmaLWsYSkC-D",
        "outputId": "dbfef29b-81cd-4b4e-9d31-9834da590a7e"
      },
      "source": [
        "df = pd.read_csv(\"summer1.csv\")\n",
        "data = []\n",
        "for sport in df['Event'].unique():\n",
        "  data.append([sport, len(df[df['Event'] == sport])])\n",
        "\n",
        "data = pd.DataFrame(data,columns=['Event','Athlete'])\n",
        "\n",
        "data = data.sort_values(by = 'Athlete',ascending = False).head()\n",
        "\n",
        "data.plot(x = 'Event', y = 'Athlete',kind = 'bar',figsize = (15,5), color = 'Brown')"
      ],
      "execution_count": null,
      "outputs": [
        {
          "output_type": "execute_result",
          "data": {
            "text/plain": [
              "<matplotlib.axes._subplots.AxesSubplot at 0x7f795c21f6d0>"
            ]
          },
          "metadata": {},
          "execution_count": 34
        },
        {
          "output_type": "display_data",
          "data": {
            "image/png": "[encoded data removed]",
            "text/plain": [
              "<Figure size 1080x360 with 1 Axes>"
            ]
          },
          "metadata": {
            "needs_background": "light"
          }
        }
      ]
    },
    {
      "cell_type": "markdown",
      "metadata": {
        "id": "cah_pAdQrVpd"
      },
      "source": [
        "# METHOD 2"
      ]
    },
    {
      "cell_type": "code",
      "metadata": {
        "colab": {
          "base_uri": "https://localhost:8080/"
        },
        "id": "9v3oLzInrYFb",
        "outputId": "0db64f71-7ea7-4bfa-9ab8-15dd9500cb6e"
      },
      "source": [
        "df = pd.read_csv(\"summer1.csv\")\n",
        "df.groupby('Event').count()['Athlete'].sort_values(ascending = False).head()"
      ],
      "execution_count": 21,
      "outputs": [
        {
          "output_type": "execute_result",
          "data": {
            "text/plain": [
              "Event\n",
              "Football            1497\n",
              "Hockey              1422\n",
              "Team Competition    1147\n",
              "Basketball          1012\n",
              "Handball             973\n",
              "Name: Athlete, dtype: int64"
            ]
          },
          "metadata": {},
          "execution_count": 21
        }
      ]
    },
    {
      "cell_type": "markdown",
      "metadata": {
        "id": "9B8HOCtRlDfu"
      },
      "source": [
        "# 8. Which sport is having most female Gold Medalists? (Top 5)"
      ]
    },
    {
      "cell_type": "code",
      "metadata": {
        "colab": {
          "base_uri": "https://localhost:8080/",
          "height": 397
        },
        "id": "9zP650Nkk5-c",
        "outputId": "e351606f-dd3a-4872-86a3-73ae625b07ef"
      },
      "source": [
        "df = pd.read_csv(\"summer1.csv\")\n",
        "df= df[df['Medal']=='Gold']\n",
        "df = df[df['Gender'] == 'Women']\n",
        "data = []\n",
        "for sport in df['Sport'].unique():\n",
        "  data.append([sport, len(df[df['Sport'] == sport])])\n",
        "\n",
        "data = pd.DataFrame(data,columns=['Sport','Medal'])\n",
        "\n",
        "data = data.sort_values(by = 'Medal',ascending = False).head()\n",
        "\n",
        "data.plot(x = 'Sport', y = 'Medal',kind = 'bar',figsize = (15,5),color = 'Green')"
      ],
      "execution_count": null,
      "outputs": [
        {
          "output_type": "execute_result",
          "data": {
            "text/plain": [
              "<matplotlib.axes._subplots.AxesSubplot at 0x7f795c052a50>"
            ]
          },
          "metadata": {},
          "execution_count": 32
        },
        {
          "output_type": "display_data",
          "data": {
            "image/png": "[encoded data removed]",
            "text/plain": [
              "<Figure size 1080x360 with 1 Axes>"
            ]
          },
          "metadata": {
            "needs_background": "light"
          }
        }
      ]
    },
    {
      "cell_type": "markdown",
      "metadata": {
        "id": "-3BiRGzeriz5"
      },
      "source": [
        "# METHOD 2"
      ]
    },
    {
      "cell_type": "code",
      "metadata": {
        "colab": {
          "base_uri": "https://localhost:8080/"
        },
        "id": "OHYOuIbQriQn",
        "outputId": "d4d73b9f-75f7-4cf9-eda6-f06a329372f2"
      },
      "source": [
        "df = pd.read_csv(\"summer1.csv\")\n",
        "df = df[df['Gender'] =='Women']\n",
        "df = df[df['Medal'] == 'Gold']\n",
        "df.groupby('Sport').count()['Athlete'].sort_values(ascending = False).head()"
      ],
      "execution_count": 23,
      "outputs": [
        {
          "output_type": "execute_result",
          "data": {
            "text/plain": [
              "Sport\n",
              "Aquatics      589\n",
              "Athletics     389\n",
              "Gymnastics    268\n",
              "Rowing        217\n",
              "Volleyball    166\n",
              "Name: Athlete, dtype: int64"
            ]
          },
          "metadata": {},
          "execution_count": 23
        }
      ]
    },
    {
      "cell_type": "code",
      "metadata": {
        "id": "fiTu9UbplSnk"
      },
      "source": [
        "df"
      ],
      "execution_count": null,
      "outputs": []
    }
  ]
}